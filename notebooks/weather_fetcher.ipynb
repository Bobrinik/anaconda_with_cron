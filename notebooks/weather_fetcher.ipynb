{
  "cells": [
    {
      "cell_type": "code",
      "metadata": {
        "id": "bU4_tPyfLBns",
        "colab_type": "code",
        "colab": {}
      },
      "source": [
        "import requests\n",
        "response = requests.request(\"GET\", \"https://samples.openweathermap.org/data/2.5/weather?q=London,uk&appid=439d4b804bc8187953eb36d2a8c26a02\")\n",
        "data = response.json()"
      ],
      "execution_count": 18,
      "outputs": []
    },
    {
      "cell_type": "code",
      "metadata": {
        "id": "2EZMWN4fUiRX",
        "colab_type": "code",
        "colab": {}
      },
      "source": [
        "text = data['name'] +\": \" + data['weather'][0]['description']"
      ],
      "execution_count": 22,
      "outputs": []
    },
    {
      "cell_type": "code",
      "metadata": {
        "id": "x2EbYx2sNUhl",
        "colab_type": "code",
        "colab": {
          "base_uri": "https://localhost:8080/",
          "height": 34
        },
        "outputId": "2bbe22ff-313f-44f8-d0e4-d039b74e9160"
      },
      "source": [
        "from twilio.rest import Client\n",
        "\n",
        "\n",
        "# Your Account Sid and Auth Token from twilio.com/console\n",
        "# DANGER! This is insecure. See http://twil.io/secure\n",
        "account_sid = 'TWILLIO_ID'\n",
        "auth_token = 'TWILLIO_AUTH_TOKEN'\n",
        "client = Client(account_sid, auth_token)\n",
        "\n",
        "message = client.messages \\\n",
        "    .create(\n",
        "         body=text,\n",
        "         from_='twillion_number',\n",
        "         to='your_number'\n",
        "     )\n",
        "\n",
        "print(message.sid)"
      ],
      "execution_count": 25,
      "outputs": [
        {
          "output_type": "stream",
          "text": [
            "SM73bb5bcb0e42422e8f13cb633f0f6435\n"
          ],
          "name": "stdout"
        }
      ]
    }
  ],
  "metadata": {
    "colab": {
      "name": "weather_fetcher.ipynb",
      "provenance": [],
      "collapsed_sections": []
    },
    "kernelspec": {
      "name": "python3",
      "display_name": "Python 3"
    }
  },
  "nbformat": 4,
  "nbformat_minor": 0
}